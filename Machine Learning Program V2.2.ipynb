{
 "cells": [
  {
   "cell_type": "markdown",
   "id": "a45db04f",
   "metadata": {},
   "source": [
    "# Machine Learning Crypto Trading Program\n",
    "### Version 2.2 - linear_model from Scikit\n",
    "Model duplication accuracy training and dictionary repeting variables for data limiting function"
   ]
  },
  {
   "cell_type": "code",
   "execution_count": 1,
   "id": "52f34b92",
   "metadata": {},
   "outputs": [],
   "source": [
    "import pandas as pd\n",
    "import numpy as np\n",
    "import requests\n",
    "import json\n",
    "from datetime import datetime\n",
    "from forex_python.converter import CurrencyRates\n",
    "import matplotlib.pyplot as plt\n",
    "from sklearn.model_selection import train_test_split\n",
    "from sklearn.linear_model import Ridge\n",
    "from sklearn.linear_model import LinearRegression\n",
    "from sklearn.model_selection import GridSearchCV\n",
    "from IPython.display import HTML"
   ]
  },
  {
   "cell_type": "code",
   "execution_count": 2,
   "id": "a09e95b1",
   "metadata": {},
   "outputs": [],
   "source": [
    "symbols = [\"btc\", \"eth\", \"bnb\", \"sol\", \"xrp\", \"ada\", \"avax\", \"doge\", \"trx\", \"link\", \"dot\", \"matic\", \"ltc\", \"bch\", \"atom\", \"etc\", \"vet\", \"usdt\"]\n",
    "variable = {}\n",
    "minimum_threshold = 0.985\n",
    "timeout_runs = 10000\n",
    "\n",
    "def print_colored_text(text, color='black'):\n",
    "    html_code = f\"<p style='color:{color}'>{text}</p>\"\n",
    "    display(HTML(html_code))"
   ]
  },
  {
   "cell_type": "code",
   "execution_count": 3,
   "id": "84ced3ab",
   "metadata": {},
   "outputs": [],
   "source": [
    "variable[f\"btc_url\"] = f'https://api.coinpaprika.com/v1/coins/btc-bitcoin/ohlcv/today'\n",
    "variable[f\"btc_file\"] = f'BTC-AUD-DF1.csv'\n",
    "\n",
    "variable[f\"eth_url\"] = f'https://api.coinpaprika.com/v1/coins/eth-ethereum/ohlcv/today'\n",
    "variable[f\"eth_file\"] = f'ETH-AUD-DF1.csv'\n",
    "\n",
    "variable[f\"bnb_url\"] = f'https://api.coinpaprika.com/v1/coins/bnb-binance-coin/ohlcv/today'\n",
    "variable[f\"bnb_file\"] = f'BNB-AUD-DF1.csv'\n",
    "\n",
    "variable[f\"sol_url\"] = f'https://api.coinpaprika.com/v1/coins/sol-solana/ohlcv/today'\n",
    "variable[f\"sol_file\"] = f'SOL-AUD-DF1.csv'\n",
    "\n",
    "variable[f\"xrp_url\"] = f'https://api.coinpaprika.com/v1/coins/xrp-xrp/ohlcv/today'\n",
    "variable[f\"xrp_file\"] = f'XRP-AUD-DF1.csv'\n",
    "\n",
    "variable[f\"ada_url\"] = f'https://api.coinpaprika.com/v1/coins/ada-cardano/ohlcv/today'\n",
    "variable[f\"ada_file\"] = f'ADA-AUD-DF1.csv'\n",
    "\n",
    "variable[f\"avax_url\"] = f'https://api.coinpaprika.com/v1/coins/avax-avalanche/ohlcv/today'\n",
    "variable[f\"avax_file\"] = f'AVAX-AUD-DF1.csv'\n",
    "\n",
    "variable[f\"doge_url\"] = f'https://api.coinpaprika.com/v1/coins/doge-dogecoin/ohlcv/today'\n",
    "variable[f\"doge_file\"] = f'DOGE-AUD-DF1.csv'\n",
    "\n",
    "variable[f\"trx_url\"] = f'https://api.coinpaprika.com/v1/coins/trx-tron/ohlcv/today'\n",
    "variable[f\"trx_file\"] = f'TRX-AUD-DF1.csv'\n",
    "\n",
    "variable[f\"link_url\"] = f'https://api.coinpaprika.com/v1/coins/link-chainlink/ohlcv/today'\n",
    "variable[f\"link_file\"] = f'LINK-AUD-DF1.csv'\n",
    "\n",
    "variable[f\"dot_url\"] = f'https://api.coinpaprika.com/v1/coins/dot-polkadot/ohlcv/today'\n",
    "variable[f\"dot_file\"] = f'DOT-AUD-DF1.csv'\n",
    "\n",
    "variable[f\"matic_url\"] = f'https://api.coinpaprika.com/v1/coins/matic-polygon/ohlcv/today'\n",
    "variable[f\"matic_file\"] = f'MATIC-AUD-DF1.csv'\n",
    "\n",
    "variable[f\"ltc_url\"] = f'https://api.coinpaprika.com/v1/coins/ltc-litecoin/ohlcv/today'\n",
    "variable[f\"ltc_file\"] = f'LTC-AUD-DF1.csv'\n",
    "\n",
    "variable[f\"bch_url\"] = f'https://api.coinpaprika.com/v1/coins/bch-bitcoin-cash/ohlcv/today'\n",
    "variable[f\"bch_file\"] = f'BCH-AUD-DF1.csv'\n",
    "\n",
    "variable[f\"atom_url\"] = f'https://api.coinpaprika.com/v1/coins/atom-cosmos/ohlcv/today'\n",
    "variable[f\"atom_file\"] = f'ATOM-AUD-DF1.csv'\n",
    "\n",
    "variable[f\"etc_url\"] = f'https://api.coinpaprika.com/v1/coins/etc-ethereum-classic/ohlcv/today'\n",
    "variable[f\"etc_file\"] = f'ETC-AUD-DF1.csv'\n",
    "\n",
    "variable[f\"vet_url\"] = f'https://api.coinpaprika.com/v1/coins/vet-vechain/ohlcv/today'\n",
    "variable[f\"vet_file\"] = f'VET-AUD-DF1.csv'\n",
    "\n",
    "variable[f\"usdt_url\"] = f'https://api.coinpaprika.com/v1/coins/usdt-tether/ohlcv/today'\n",
    "variable[f\"usdt_file\"] = f'USDT-AUD-DF1.csv'"
   ]
  },
  {
   "cell_type": "code",
   "execution_count": 5,
   "id": "36fb387c",
   "metadata": {},
   "outputs": [
    {
     "name": "stdout",
     "output_type": "stream",
     "text": [
      "-----------------------btc Prediction-----------------------\n",
      "[{'time_open': '2024-02-11T00:00:00Z', 'time_close': '2024-02-11T09:10:00Z', 'open': 47781.29868248822, 'high': 48472.650456776515, 'low': 47636.24499029698, 'close': 48208.132913531175, 'volume': 16946406290, 'market_cap': 946068314079}]\n",
      "Counter: 4 / 10000\r"
     ]
    },
    {
     "data": {
      "text/html": [
       "<p style='color:red'>btc Prediction</p>"
      ],
      "text/plain": [
       "<IPython.core.display.HTML object>"
      ]
     },
     "metadata": {},
     "output_type": "display_data"
    },
    {
     "name": "stdout",
     "output_type": "stream",
     "text": [
      "0.9852119139273542\n",
      "[-0.00185445]\n",
      "total runs: 4\n",
      "-----------------------eth Prediction-----------------------\n",
      "[{'time_open': '2024-02-11T00:00:00Z', 'time_close': '2024-02-11T09:07:00Z', 'open': 2502.41600942634, 'high': 2537.3353235438644, 'low': 2497.560420806112, 'close': 2528.587093063912, 'volume': 6877248376, 'market_cap': 303861769968}]\n",
      "Counter: 10001 / 10000\r"
     ]
    },
    {
     "data": {
      "text/html": [
       "<p style='color:yellow'>eth Prediction</p>"
      ],
      "text/plain": [
       "<IPython.core.display.HTML object>"
      ]
     },
     "metadata": {},
     "output_type": "display_data"
    },
    {
     "name": "stdout",
     "output_type": "stream",
     "text": [
      "0.9488657558572166\n",
      "[-0.55704205]\n",
      "total runs: 10001\n",
      "-----------------------bnb Prediction-----------------------\n",
      "[{'time_open': '2024-02-11T00:00:00Z', 'time_close': '2024-02-11T09:18:00Z', 'open': 323.25698032483257, 'high': 324.7597669532722, 'low': 322.1597667909237, 'close': 324.3806310357787, 'volume': 459752965, 'market_cap': 48509632842}]\n",
      "Counter: 27 / 10000\r"
     ]
    },
    {
     "data": {
      "text/html": [
       "<p style='color:red'>bnb Prediction</p>"
      ],
      "text/plain": [
       "<IPython.core.display.HTML object>"
      ]
     },
     "metadata": {},
     "output_type": "display_data"
    },
    {
     "name": "stdout",
     "output_type": "stream",
     "text": [
      "0.9856683600259667\n",
      "[-0.52898251]\n",
      "total runs: 27\n",
      "-----------------------sol Prediction-----------------------\n",
      "[{'time_open': '2024-02-11T00:00:00Z', 'time_close': '2024-02-11T09:18:00Z', 'open': 109.14394861518791, 'high': 109.81827777543266, 'low': 107.98117563742149, 'close': 109.3262863359027, 'volume': 1591811260, 'market_cap': 47796274613}]\n",
      "Counter: 1 / 10000\r"
     ]
    },
    {
     "data": {
      "text/html": [
       "<p style='color:red'>sol Prediction</p>"
      ],
      "text/plain": [
       "<IPython.core.display.HTML object>"
      ]
     },
     "metadata": {},
     "output_type": "display_data"
    },
    {
     "name": "stdout",
     "output_type": "stream",
     "text": [
      "0.9919526686847772\n",
      "[-0.52873278]\n",
      "total runs: 1\n",
      "-----------------------xrp Prediction-----------------------\n",
      "[{'time_open': '2024-02-11T00:00:00Z', 'time_close': '2024-02-11T09:18:00Z', 'open': 0.524327194015335, 'high': 0.5296757269386044, 'low': 0.5224486597286443, 'close': 0.5296757269386044, 'volume': 553846991, 'market_cap': 28871018499}]\n",
      "Counter: 403 / 10000\r"
     ]
    },
    {
     "data": {
      "text/html": [
       "<p style='color:green'>xrp Prediction</p>"
      ],
      "text/plain": [
       "<IPython.core.display.HTML object>"
      ]
     },
     "metadata": {},
     "output_type": "display_data"
    },
    {
     "name": "stdout",
     "output_type": "stream",
     "text": [
      "0.9852263607051727\n",
      "[0.14189766]\n",
      "total runs: 403\n",
      "-----------------------ada Prediction-----------------------\n",
      "[{'time_open': '2024-02-11T00:00:00Z', 'time_close': '2024-02-11T09:18:00Z', 'open': 0.5519547815769003, 'high': 0.5654529286879769, 'low': 0.5496219549477193, 'close': 0.5571497747957457, 'volume': 535031560, 'market_cap': 19746469964}]\n",
      "Counter: 2 / 10000\r"
     ]
    },
    {
     "data": {
      "text/html": [
       "<p style='color:red'>ada Prediction</p>"
      ],
      "text/plain": [
       "<IPython.core.display.HTML object>"
      ]
     },
     "metadata": {},
     "output_type": "display_data"
    },
    {
     "name": "stdout",
     "output_type": "stream",
     "text": [
      "0.9884919287495978\n",
      "[-0.73073457]\n",
      "total runs: 2\n",
      "-----------------------avax Prediction-----------------------\n",
      "[{'time_open': '2024-02-11T00:00:00Z', 'time_close': '2024-02-11T09:11:00Z', 'open': 40.257365657631766, 'high': 41.04278458298245, 'low': 40.17428330882438, 'close': 40.90312657134992, 'volume': 490252475, 'market_cap': 15030773851}]\n",
      "Counter: 1 / 10000\r"
     ]
    },
    {
     "data": {
      "text/html": [
       "<p style='color:red'>avax Prediction</p>"
      ],
      "text/plain": [
       "<IPython.core.display.HTML object>"
      ]
     },
     "metadata": {},
     "output_type": "display_data"
    },
    {
     "name": "stdout",
     "output_type": "stream",
     "text": [
      "0.9856609075016801\n",
      "[-1.79819302]\n",
      "total runs: 1\n",
      "-----------------------doge Prediction-----------------------\n",
      "[{'time_open': '2024-02-11T00:00:00Z', 'time_close': '2024-02-11T09:11:00Z', 'open': 0.08150579630046567, 'high': 0.08332419443276495, 'low': 0.0813829198393006, 'close': 0.08272538646374432, 'volume': 276630408, 'market_cap': 11282134233}]\n",
      "Counter: 10001 / 10000\r"
     ]
    },
    {
     "data": {
      "text/html": [
       "<p style='color:yellow'>doge Prediction</p>"
      ],
      "text/plain": [
       "<IPython.core.display.HTML object>"
      ]
     },
     "metadata": {},
     "output_type": "display_data"
    },
    {
     "name": "stdout",
     "output_type": "stream",
     "text": [
      "0.9420845138285011\n",
      "[-1.14570677]\n",
      "total runs: 10001\n",
      "-----------------------trx Prediction-----------------------\n",
      "[{'time_open': '2024-02-11T00:00:00Z', 'time_close': '2024-02-11T09:20:00Z', 'open': 0.12455325855560898, 'high': 0.12506630523664847, 'low': 0.12453859638885856, 'close': 0.12495301233900133, 'volume': 274711240, 'market_cap': 11006248371}]\n",
      "Counter: 1 / 10000\r"
     ]
    },
    {
     "data": {
      "text/html": [
       "<p style='color:green'>trx Prediction</p>"
      ],
      "text/plain": [
       "<IPython.core.display.HTML object>"
      ]
     },
     "metadata": {},
     "output_type": "display_data"
    },
    {
     "name": "stdout",
     "output_type": "stream",
     "text": [
      "0.9891436095364734\n",
      "[0.99869087]\n",
      "total runs: 1\n",
      "-----------------------link Prediction-----------------------\n",
      "[{'time_open': '2024-02-11T00:00:00Z', 'time_close': '2024-02-11T09:15:00Z', 'open': 19.09396980581427, 'high': 20.553960199822118, 'low': 18.886251265505685, 'close': 20.500399413067225, 'volume': 694203880, 'market_cap': 12035783880}]\n",
      "Counter: 1 / 10000\r"
     ]
    },
    {
     "data": {
      "text/html": [
       "<p style='color:red'>link Prediction</p>"
      ],
      "text/plain": [
       "<IPython.core.display.HTML object>"
      ]
     },
     "metadata": {},
     "output_type": "display_data"
    },
    {
     "name": "stdout",
     "output_type": "stream",
     "text": [
      "0.9881726244780873\n",
      "[-0.01323956]\n",
      "total runs: 1\n",
      "-----------------------dot Prediction-----------------------\n",
      "[{'time_open': '2024-02-11T00:00:00Z', 'time_close': '2024-02-11T09:20:00Z', 'open': 7.210820105683769, 'high': 7.339672900652115, 'low': 7.169524778110513, 'close': 7.3017332702670625, 'volume': 172365370, 'market_cap': 9702172913}]\n",
      "Counter: 4663 / 10000\r"
     ]
    },
    {
     "data": {
      "text/html": [
       "<p style='color:red'>dot Prediction</p>"
      ],
      "text/plain": [
       "<IPython.core.display.HTML object>"
      ]
     },
     "metadata": {},
     "output_type": "display_data"
    },
    {
     "name": "stdout",
     "output_type": "stream",
     "text": [
      "0.9850098136289017\n",
      "[-1.34560804]\n",
      "total runs: 4663\n",
      "-----------------------matic Prediction-----------------------\n",
      "[{'time_open': '2024-02-11T00:00:00Z', 'time_close': '2024-02-11T09:21:00Z', 'open': 0.8493990767833285, 'high': 0.8647348396924347, 'low': 0.8474446474681637, 'close': 0.8608016236492564, 'volume': 220684669, 'market_cap': 8272945330}]\n",
      "Counter: 21 / 10000\r"
     ]
    },
    {
     "data": {
      "text/html": [
       "<p style='color:red'>matic Prediction</p>"
      ],
      "text/plain": [
       "<IPython.core.display.HTML object>"
      ]
     },
     "metadata": {},
     "output_type": "display_data"
    },
    {
     "name": "stdout",
     "output_type": "stream",
     "text": [
      "0.9855025070457086\n",
      "[-0.59688219]\n",
      "total runs: 21\n",
      "-----------------------ltc Prediction-----------------------\n",
      "[{'time_open': '2024-02-11T00:00:00Z', 'time_close': '2024-02-11T09:16:00Z', 'open': 70.86087653887307, 'high': 72.87523727574626, 'low': 70.73562000613455, 'close': 72.3136374125214, 'volume': 363529196, 'market_cap': 5365201857}]\n",
      "Counter: 10001 / 10000\r"
     ]
    },
    {
     "data": {
      "text/html": [
       "<p style='color:yellow'>ltc Prediction</p>"
      ],
      "text/plain": [
       "<IPython.core.display.HTML object>"
      ]
     },
     "metadata": {},
     "output_type": "display_data"
    },
    {
     "name": "stdout",
     "output_type": "stream",
     "text": [
      "0.9311257596430702\n",
      "[0.27545471]\n",
      "total runs: 10001\n",
      "-----------------------bch Prediction-----------------------\n",
      "[{'time_open': '2024-02-11T00:00:00Z', 'time_close': '2024-02-11T09:22:00Z', 'open': 248.20204436803573, 'high': 273.50305831887067, 'low': 247.44993681966437, 'close': 269.4593854827421, 'volume': 346266729, 'market_cap': 5149762806}]\n",
      "Counter: 1 / 10000\r"
     ]
    },
    {
     "data": {
      "text/html": [
       "<p style='color:green'>bch Prediction</p>"
      ],
      "text/plain": [
       "<IPython.core.display.HTML object>"
      ]
     },
     "metadata": {},
     "output_type": "display_data"
    },
    {
     "name": "stdout",
     "output_type": "stream",
     "text": [
      "0.988194204580881\n",
      "[0.39286791]\n",
      "total runs: 1\n",
      "-----------------------atom Prediction-----------------------\n",
      "[{'time_open': '2024-02-11T00:00:00Z', 'time_close': '2024-02-11T09:22:00Z', 'open': 9.986856776885038, 'high': 10.264833294904562, 'low': 9.971446582095986, 'close': 10.182327906116045, 'volume': 88635952, 'market_cap': 3932415016}]\n",
      "Counter: 10001 / 10000\r"
     ]
    },
    {
     "data": {
      "text/html": [
       "<p style='color:yellow'>atom Prediction</p>"
      ],
      "text/plain": [
       "<IPython.core.display.HTML object>"
      ]
     },
     "metadata": {},
     "output_type": "display_data"
    },
    {
     "name": "stdout",
     "output_type": "stream",
     "text": [
      "0.9621768465704348\n",
      "[-1.27517883]\n",
      "total runs: 10001\n",
      "-----------------------etc Prediction-----------------------\n",
      "[{'time_open': '2024-02-11T00:00:00Z', 'time_close': '2024-02-11T09:23:00Z', 'open': 25.899290040364672, 'high': 26.33683689360654, 'low': 25.770155019584685, 'close': 26.275747827490576, 'volume': 228605891, 'market_cap': 3823022249}]\n",
      "Counter: 10001 / 10000\r"
     ]
    },
    {
     "data": {
      "text/html": [
       "<p style='color:yellow'>etc Prediction</p>"
      ],
      "text/plain": [
       "<IPython.core.display.HTML object>"
      ]
     },
     "metadata": {},
     "output_type": "display_data"
    },
    {
     "name": "stdout",
     "output_type": "stream",
     "text": [
      "0.9492688704691107\n",
      "[-2.07898621]\n",
      "total runs: 10001\n",
      "-----------------------vet Prediction-----------------------\n",
      "[{'time_open': '2024-02-11T00:00:00Z', 'time_close': '2024-02-11T09:22:00Z', 'open': 0.02973658759955293, 'high': 0.030238326747925266, 'low': 0.029658802988226374, 'close': 0.03022899139154081, 'volume': 31115558, 'market_cap': 2198086503}]\n",
      "Counter: 2296 / 10000\r"
     ]
    },
    {
     "data": {
      "text/html": [
       "<p style='color:red'>vet Prediction</p>"
      ],
      "text/plain": [
       "<IPython.core.display.HTML object>"
      ]
     },
     "metadata": {},
     "output_type": "display_data"
    },
    {
     "name": "stdout",
     "output_type": "stream",
     "text": [
      "0.9881305270101396\n",
      "[-0.99874285]\n",
      "total runs: 2296\n",
      "-----------------------usdt Prediction-----------------------\n",
      "[{'time_open': '2024-02-11T00:00:00Z', 'time_close': '2024-02-11T09:25:00Z', 'open': 1.0008682880341784, 'high': 1.0015410085053036, 'low': 0.9983393037851567, 'close': 1.0011571318715924, 'volume': 28843278339, 'market_cap': 96453235293}]\n",
      "Counter: 10001 / 10000\r"
     ]
    },
    {
     "data": {
      "text/html": [
       "<p style='color:yellow'>usdt Prediction</p>"
      ],
      "text/plain": [
       "<IPython.core.display.HTML object>"
      ]
     },
     "metadata": {},
     "output_type": "display_data"
    },
    {
     "name": "stdout",
     "output_type": "stream",
     "text": [
      "0.9508962718771962\n",
      "[-0.0922041]\n",
      "total runs: 10001\n"
     ]
    }
   ],
   "source": [
    "for symbol in symbols:\n",
    "    \n",
    "    print(f\"-----------------------{symbol} Prediction-----------------------\")\n",
    "    \n",
    "    timeout_runs_count = 0\n",
    "    variable[f\"{symbol}_score\"] = 0\n",
    "\n",
    "    url = variable[f\"{symbol}_url\"]\n",
    "    response = requests.get(url)  \n",
    "\n",
    "    if response.status_code == 200:\n",
    "        data = response.json()\n",
    "        print(data)\n",
    "        if data:\n",
    "            ohlc_data = data[0] \n",
    "\n",
    "            variable[f\"{symbol}_open_usd\"] = ohlc_data.get('open')\n",
    "            variable[f\"{symbol}_high_usd\"] = ohlc_data.get('high')\n",
    "            variable[f\"{symbol}_low_usd\"] = ohlc_data.get('low')\n",
    "            variable[f\"{symbol}_close_usd\"] = ohlc_data.get('close')\n",
    "            variable[f\"{symbol}_volume_usd\"] = ohlc_data.get('volume')\n",
    "\n",
    "            c = CurrencyRates()\n",
    "            variable[f\"{symbol}_open_aud\"] = c.convert('USD', 'AUD', variable[f\"{symbol}_open_usd\"])\n",
    "            variable[f\"{symbol}_high_aud\"] = c.convert('USD', 'AUD', variable[f\"{symbol}_high_usd\"])\n",
    "            variable[f\"{symbol}_low_aud\"] = c.convert('USD', 'AUD', variable[f\"{symbol}_low_usd\"])\n",
    "            variable[f\"{symbol}_close_aud\"] = c.convert('USD', 'AUD', variable[f\"{symbol}_close_usd\"])\n",
    "            variable[f\"{symbol}_volume_aud\"] = c.convert('USD', 'AUD', variable[f\"{symbol}_volume_usd\"])\n",
    "\n",
    "    data = pd.read_csv(variable[f\"{symbol}_file\"])\n",
    "    df = data[['Open', 'High', 'Low', 'Close', 'Volume', 'PredictiveClose']]\n",
    "        \n",
    "    while variable[f\"{symbol}_score\"] < minimum_threshold:\n",
    "        timeout_runs_count = timeout_runs_count + 1\n",
    "        X_train, X_test, y_train, y_test = train_test_split(df[['Open', 'High', 'Low', 'Close', 'Volume']], df['PredictiveClose'], test_size=0.25)\n",
    "        model = LinearRegression()\n",
    "        model.fit(X_train, y_train)\n",
    "        y_pred = model.predict(X_test)\n",
    "\n",
    "        model.score(X_test, y_test)\n",
    "\n",
    "        today_data = {\n",
    "            'Open': variable[f\"{symbol}_open_aud\"],\n",
    "            'High': variable[f\"{symbol}_high_aud\"],\n",
    "            'Low': variable[f\"{symbol}_low_aud\"],\n",
    "            'Close': variable[f\"{symbol}_close_aud\"],\n",
    "            'Volume': variable[f\"{symbol}_volume_aud\"]\n",
    "        }\n",
    "        today_df = pd.DataFrame([today_data])\n",
    "\n",
    "        variable[f\"{symbol}_prediction\"] = model.predict(today_df[['Open', 'High', 'Low', 'Close', 'Volume']])\n",
    "        variable[f\"{symbol}_score\"] = model.score(X_test, y_test)\n",
    "        if timeout_runs_count > timeout_runs:\n",
    "            variable[f\"{symbol}_score\"] = 2\n",
    "        print(f'Counter: {timeout_runs_count} / {timeout_runs}', end='\\r')\n",
    "        \n",
    "    variable[f\"{symbol}_percent\"] = variable[f\"{symbol}_prediction\"]/variable[f\"{symbol}_close_aud\"]*100-100\n",
    "    if variable[f\"{symbol}_percent\"] <= 0:\n",
    "        mark = \"red\"\n",
    "    else:\n",
    "        mark = \"green\"\n",
    "    if variable[f\"{symbol}_score\"] == 2:\n",
    "        mark = \"yellow\"\n",
    "    print_colored_text(f'{symbol} Prediction', color=mark)\n",
    "    print(model.score(X_test, y_test))\n",
    "    print(variable[f\"{symbol}_percent\"])\n",
    "    print(f'total runs: {timeout_runs_count}')\n",
    "\n",
    "    "
   ]
  },
  {
   "cell_type": "code",
   "execution_count": null,
   "id": "059c44fc",
   "metadata": {},
   "outputs": [],
   "source": []
  },
  {
   "cell_type": "markdown",
   "id": "fbbbdc78",
   "metadata": {},
   "source": [
    "# File Formating Code"
   ]
  },
  {
   "cell_type": "code",
   "execution_count": null,
   "id": "73949c7d",
   "metadata": {},
   "outputs": [],
   "source": [
    "variable[f\"btc_fileP\"] = f'BTC-AUD.csv'\n",
    "variable[f\"eth_fileP\"] = f'ETH-AUD.csv'\n",
    "variable[f\"bnb_fileP\"] = f'BNB-AUD.csv'\n",
    "variable[f\"sol_fileP\"] = f'SOL-AUD.csv'\n",
    "variable[f\"xrp_fileP\"] = f'XRP-AUD.csv'\n",
    "variable[f\"ada_fileP\"] = f'ADA-AUD.csv'\n",
    "variable[f\"avax_fileP\"] = f'AVAX-AUD.csv'\n",
    "variable[f\"doge_fileP\"] = f'DOGE-AUD.csv'\n",
    "variable[f\"trx_fileP\"] = f'TRX-AUD.csv'\n",
    "variable[f\"link_fileP\"] = f'LINK-AUD.csv'\n",
    "variable[f\"dot_fileP\"] = f'DOT-AUD.csv'\n",
    "variable[f\"matic_fileP\"] = f'MATIC-AUD.csv'\n",
    "variable[f\"ltc_fileP\"] = f'LTC-AUD.csv'\n",
    "variable[f\"bch_fileP\"] = f'BCH-AUD.csv'\n",
    "variable[f\"atom_fileP\"] = f'ATOM-AUD.csv'\n",
    "variable[f\"etc_fileP\"] = f'ETC-AUD.csv'\n",
    "variable[f\"vet_fileP\"] = f'VET-AUD.csv'\n",
    "variable[f\"usdt_fileP\"] = f'USDT-AUD.csv'"
   ]
  },
  {
   "cell_type": "code",
   "execution_count": null,
   "id": "b9c11ba2",
   "metadata": {},
   "outputs": [],
   "source": [
    "import pandas as pd\n",
    "format_q = input(\"Format Data? (Y) (N) \")    \n",
    "print(\"if error below: missing dataset\")\n",
    "\n",
    "if format_q == \"Y\":\n",
    "    for symbol in symbols:\n",
    "        if __name__ == \"__main__\":\n",
    "            input_file = variable[f\"{symbol}_fileP\"]\n",
    "            output_file = variable[f\"{symbol}_file\"]\n",
    "\n",
    "            df = pd.read_csv(input_file)\n",
    "            df = df.drop(df.columns[[0, 5]], axis=1)\n",
    "            df['PredictiveClose'] = df.iloc[:, 3].shift(-1)\n",
    "            df = df.iloc[:-1]\n",
    "            df.to_csv(output_file, index=False)\n",
    "else:\n",
    "    print(\"formating queiry denied\")"
   ]
  },
  {
   "cell_type": "code",
   "execution_count": null,
   "id": "5c417c53",
   "metadata": {},
   "outputs": [],
   "source": []
  }
 ],
 "metadata": {
  "kernelspec": {
   "display_name": "Python 3 (ipykernel)",
   "language": "python",
   "name": "python3"
  },
  "language_info": {
   "codemirror_mode": {
    "name": "ipython",
    "version": 3
   },
   "file_extension": ".py",
   "mimetype": "text/x-python",
   "name": "python",
   "nbconvert_exporter": "python",
   "pygments_lexer": "ipython3",
   "version": "3.11.5"
  }
 },
 "nbformat": 4,
 "nbformat_minor": 5
}
